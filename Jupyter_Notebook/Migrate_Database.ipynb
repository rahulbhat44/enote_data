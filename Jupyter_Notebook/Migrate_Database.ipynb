{
 "cells": [
  {
   "cell_type": "markdown",
   "metadata": {},
   "source": [
    "# Migrating CSV Data into a Relational Database\n",
    "# Step 1: Import CSV Data into Pandas Dataframes"
   ]
  },
  {
   "cell_type": "code",
   "execution_count": 1,
   "metadata": {},
   "outputs": [],
   "source": [
    "import pandas as pd"
   ]
  },
  {
   "cell_type": "markdown",
   "metadata": {},
   "source": [
    "# Reading the csv file"
   ]
  },
  {
   "cell_type": "code",
   "execution_count": 2,
   "metadata": {},
   "outputs": [
    {
     "name": "stdout",
     "output_type": "stream",
     "text": [
      "The dataset contains 2554 Condo Rent listings\n"
     ]
    },
    {
     "data": {
      "text/html": [
       "<div>\n",
       "<style scoped>\n",
       "    .dataframe tbody tr th:only-of-type {\n",
       "        vertical-align: middle;\n",
       "    }\n",
       "\n",
       "    .dataframe tbody tr th {\n",
       "        vertical-align: top;\n",
       "    }\n",
       "\n",
       "    .dataframe thead th {\n",
       "        text-align: right;\n",
       "    }\n",
       "</style>\n",
       "<table border=\"1\" class=\"dataframe\">\n",
       "  <thead>\n",
       "    <tr style=\"text-align: right;\">\n",
       "      <th></th>\n",
       "      <th>id</th>\n",
       "      <th>id_person</th>\n",
       "      <th>name</th>\n",
       "      <th>surname</th>\n",
       "      <th>zip</th>\n",
       "      <th>city</th>\n",
       "      <th>country</th>\n",
       "      <th>email</th>\n",
       "      <th>birth_date</th>\n",
       "      <th>id_account</th>\n",
       "      <th>account_type</th>\n",
       "      <th>id_transaction</th>\n",
       "      <th>transaction_type</th>\n",
       "      <th>transaction_date</th>\n",
       "      <th>transaction_amount</th>\n",
       "    </tr>\n",
       "  </thead>\n",
       "  <tbody>\n",
       "    <tr>\n",
       "      <th>0</th>\n",
       "      <td>0</td>\n",
       "      <td>13</td>\n",
       "      <td>Aaya</td>\n",
       "      <td>Añon</td>\n",
       "      <td>10013</td>\n",
       "      <td>Ajman</td>\n",
       "      <td>United Arab Emirates</td>\n",
       "      <td>aaya.añon@bestdomain.com</td>\n",
       "      <td>4/14/63</td>\n",
       "      <td>1202</td>\n",
       "      <td>Business</td>\n",
       "      <td>1997</td>\n",
       "      <td>P1</td>\n",
       "      <td>2020-04-07</td>\n",
       "      <td>4.1497</td>\n",
       "    </tr>\n",
       "    <tr>\n",
       "      <th>1</th>\n",
       "      <td>1</td>\n",
       "      <td>30</td>\n",
       "      <td>Abdalahe</td>\n",
       "      <td>Aart</td>\n",
       "      <td>10030</td>\n",
       "      <td>Maymana</td>\n",
       "      <td>Afghanistan</td>\n",
       "      <td>abdalahe.aart@bestdomain.com</td>\n",
       "      <td>10.07.40</td>\n",
       "      <td>965</td>\n",
       "      <td>Basic</td>\n",
       "      <td>965</td>\n",
       "      <td>P3</td>\n",
       "      <td>2020-02-21</td>\n",
       "      <td>31.9070</td>\n",
       "    </tr>\n",
       "    <tr>\n",
       "      <th>2</th>\n",
       "      <td>2</td>\n",
       "      <td>30</td>\n",
       "      <td>Abdalahe</td>\n",
       "      <td>Aart</td>\n",
       "      <td>10030</td>\n",
       "      <td>Maymana</td>\n",
       "      <td>Afghanistan</td>\n",
       "      <td>abdalahe.aart@bestdomain.com</td>\n",
       "      <td>10.07.40</td>\n",
       "      <td>965</td>\n",
       "      <td>Basic</td>\n",
       "      <td>1760</td>\n",
       "      <td>P4</td>\n",
       "      <td>2020-03-09</td>\n",
       "      <td>31.1756</td>\n",
       "    </tr>\n",
       "    <tr>\n",
       "      <th>3</th>\n",
       "      <td>3</td>\n",
       "      <td>48</td>\n",
       "      <td>Abdelaziz</td>\n",
       "      <td>Abaev</td>\n",
       "      <td>10048</td>\n",
       "      <td>Gereshk</td>\n",
       "      <td>Afghanistan</td>\n",
       "      <td>abdelaziz.abaev@bestdomain.com</td>\n",
       "      <td>8/17/85</td>\n",
       "      <td>1189</td>\n",
       "      <td>Business</td>\n",
       "      <td>1984</td>\n",
       "      <td>P1</td>\n",
       "      <td>2020-02-17</td>\n",
       "      <td>25.0801</td>\n",
       "    </tr>\n",
       "    <tr>\n",
       "      <th>4</th>\n",
       "      <td>4</td>\n",
       "      <td>55</td>\n",
       "      <td>Abdelfatah</td>\n",
       "      <td>Abaimov</td>\n",
       "      <td>10055</td>\n",
       "      <td>Bāmyān</td>\n",
       "      <td>Afghanistan</td>\n",
       "      <td>abdelfatah.abaimov@bestdomain.com</td>\n",
       "      <td>10.07.40</td>\n",
       "      <td>946</td>\n",
       "      <td>Basic</td>\n",
       "      <td>946</td>\n",
       "      <td>P3</td>\n",
       "      <td>2020-03-11</td>\n",
       "      <td>18.0259</td>\n",
       "    </tr>\n",
       "    <tr>\n",
       "      <th>5</th>\n",
       "      <td>5</td>\n",
       "      <td>85</td>\n",
       "      <td>Abdeljebbar</td>\n",
       "      <td>Abalov</td>\n",
       "      <td>10085</td>\n",
       "      <td>Berat</td>\n",
       "      <td>Albania</td>\n",
       "      <td>abdeljebbar.abalov@bestdomain.com</td>\n",
       "      <td>11.01.48</td>\n",
       "      <td>1135</td>\n",
       "      <td>Business</td>\n",
       "      <td>1930</td>\n",
       "      <td>P1</td>\n",
       "      <td>2020-04-07</td>\n",
       "      <td>31.6594</td>\n",
       "    </tr>\n",
       "    <tr>\n",
       "      <th>6</th>\n",
       "      <td>6</td>\n",
       "      <td>85</td>\n",
       "      <td>Abdeljebbar</td>\n",
       "      <td>Abalov</td>\n",
       "      <td>10085</td>\n",
       "      <td>Berat</td>\n",
       "      <td>Albania</td>\n",
       "      <td>abdeljebbar.abalov@bestdomain.com</td>\n",
       "      <td>11.01.48</td>\n",
       "      <td>1197</td>\n",
       "      <td>Business</td>\n",
       "      <td>1992</td>\n",
       "      <td>P1</td>\n",
       "      <td>2020-03-19</td>\n",
       "      <td>37.2273</td>\n",
       "    </tr>\n",
       "    <tr>\n",
       "      <th>7</th>\n",
       "      <td>7</td>\n",
       "      <td>92</td>\n",
       "      <td>Abdelkarin</td>\n",
       "      <td>Abankin</td>\n",
       "      <td>10092</td>\n",
       "      <td>Ejmiatsin</td>\n",
       "      <td>Armenia</td>\n",
       "      <td>abdelkarin.abankin@bestdomain.com</td>\n",
       "      <td>03.05.67</td>\n",
       "      <td>1451</td>\n",
       "      <td>Business</td>\n",
       "      <td>2246</td>\n",
       "      <td>P1</td>\n",
       "      <td>2020-02-24</td>\n",
       "      <td>21.1675</td>\n",
       "    </tr>\n",
       "    <tr>\n",
       "      <th>8</th>\n",
       "      <td>8</td>\n",
       "      <td>112</td>\n",
       "      <td>Abdelmayid</td>\n",
       "      <td>Abashin</td>\n",
       "      <td>10112</td>\n",
       "      <td>Luanda</td>\n",
       "      <td>Angola</td>\n",
       "      <td>abdelmayid.abashin@bestdomain.com</td>\n",
       "      <td>2/24/57</td>\n",
       "      <td>630</td>\n",
       "      <td>Business Premium</td>\n",
       "      <td>630</td>\n",
       "      <td>P3</td>\n",
       "      <td>2020-04-30</td>\n",
       "      <td>0.3188</td>\n",
       "    </tr>\n",
       "    <tr>\n",
       "      <th>9</th>\n",
       "      <td>9</td>\n",
       "      <td>114</td>\n",
       "      <td>Abdelmoghit</td>\n",
       "      <td>Abasolo</td>\n",
       "      <td>10114</td>\n",
       "      <td>Cabinda</td>\n",
       "      <td>Angola</td>\n",
       "      <td>abdelmoghit.abasolo@bestdomain.com</td>\n",
       "      <td>8/31/64</td>\n",
       "      <td>1123</td>\n",
       "      <td>Business</td>\n",
       "      <td>1123</td>\n",
       "      <td>P3</td>\n",
       "      <td>2020-01-30</td>\n",
       "      <td>18.0785</td>\n",
       "    </tr>\n",
       "  </tbody>\n",
       "</table>\n",
       "</div>"
      ],
      "text/plain": [
       "   id  id_person         name  surname    zip       city  \\\n",
       "0   0         13         Aaya     Añon  10013      Ajman   \n",
       "1   1         30     Abdalahe     Aart  10030    Maymana   \n",
       "2   2         30     Abdalahe     Aart  10030    Maymana   \n",
       "3   3         48    Abdelaziz    Abaev  10048    Gereshk   \n",
       "4   4         55   Abdelfatah  Abaimov  10055     Bāmyān   \n",
       "5   5         85  Abdeljebbar   Abalov  10085      Berat   \n",
       "6   6         85  Abdeljebbar   Abalov  10085      Berat   \n",
       "7   7         92   Abdelkarin  Abankin  10092  Ejmiatsin   \n",
       "8   8        112   Abdelmayid  Abashin  10112     Luanda   \n",
       "9   9        114  Abdelmoghit  Abasolo  10114    Cabinda   \n",
       "\n",
       "                country                               email birth_date  \\\n",
       "0  United Arab Emirates            aaya.añon@bestdomain.com    4/14/63   \n",
       "1           Afghanistan        abdalahe.aart@bestdomain.com   10.07.40   \n",
       "2           Afghanistan        abdalahe.aart@bestdomain.com   10.07.40   \n",
       "3           Afghanistan      abdelaziz.abaev@bestdomain.com    8/17/85   \n",
       "4           Afghanistan   abdelfatah.abaimov@bestdomain.com   10.07.40   \n",
       "5               Albania   abdeljebbar.abalov@bestdomain.com   11.01.48   \n",
       "6               Albania   abdeljebbar.abalov@bestdomain.com   11.01.48   \n",
       "7               Armenia   abdelkarin.abankin@bestdomain.com   03.05.67   \n",
       "8                Angola   abdelmayid.abashin@bestdomain.com    2/24/57   \n",
       "9                Angola  abdelmoghit.abasolo@bestdomain.com    8/31/64   \n",
       "\n",
       "   id_account      account_type  id_transaction transaction_type  \\\n",
       "0        1202          Business            1997               P1   \n",
       "1         965             Basic             965               P3   \n",
       "2         965             Basic            1760               P4   \n",
       "3        1189          Business            1984               P1   \n",
       "4         946             Basic             946               P3   \n",
       "5        1135          Business            1930               P1   \n",
       "6        1197          Business            1992               P1   \n",
       "7        1451          Business            2246               P1   \n",
       "8         630  Business Premium             630               P3   \n",
       "9        1123          Business            1123               P3   \n",
       "\n",
       "  transaction_date  transaction_amount  \n",
       "0       2020-04-07              4.1497  \n",
       "1       2020-02-21             31.9070  \n",
       "2       2020-03-09             31.1756  \n",
       "3       2020-02-17             25.0801  \n",
       "4       2020-03-11             18.0259  \n",
       "5       2020-04-07             31.6594  \n",
       "6       2020-03-19             37.2273  \n",
       "7       2020-02-24             21.1675  \n",
       "8       2020-04-30              0.3188  \n",
       "9       2020-01-30             18.0785  "
      ]
     },
     "execution_count": 2,
     "metadata": {},
     "output_type": "execute_result"
    }
   ],
   "source": [
    "df = pd.read_csv('cleaned_data.csv')\n",
    "print(f\"The dataset contains {len(df)} Condo Rent listings\")\n",
    "pd.set_option('display.max_columns', len(df.columns)) # To view all columns\n",
    "pd.set_option('display.max_rows', 100)\n",
    "df.head(10)"
   ]
  },
  {
   "cell_type": "code",
   "execution_count": 3,
   "metadata": {},
   "outputs": [
    {
     "data": {
      "text/plain": [
       "id                    2554\n",
       "id_person             2554\n",
       "name                  1747\n",
       "surname               2526\n",
       "zip                   2554\n",
       "city                  2554\n",
       "country               2554\n",
       "email                 2554\n",
       "birth_date            2554\n",
       "id_account            2554\n",
       "account_type          2554\n",
       "id_transaction        2554\n",
       "transaction_type      2554\n",
       "transaction_date      2554\n",
       "transaction_amount    2554\n",
       "dtype: int64"
      ]
     },
     "execution_count": 3,
     "metadata": {},
     "output_type": "execute_result"
    }
   ],
   "source": [
    "df.count()"
   ]
  },
  {
   "cell_type": "code",
   "execution_count": 4,
   "metadata": {},
   "outputs": [
    {
     "data": {
      "text/plain": [
       "id                      int64\n",
       "id_person               int64\n",
       "name                   object\n",
       "surname                object\n",
       "zip                     int64\n",
       "city                   object\n",
       "country                object\n",
       "email                  object\n",
       "birth_date             object\n",
       "id_account              int64\n",
       "account_type           object\n",
       "id_transaction          int64\n",
       "transaction_type       object\n",
       "transaction_date       object\n",
       "transaction_amount    float64\n",
       "dtype: object"
      ]
     },
     "execution_count": 4,
     "metadata": {},
     "output_type": "execute_result"
    }
   ],
   "source": [
    "df.dtypes"
   ]
  },
  {
   "cell_type": "markdown",
   "metadata": {},
   "source": [
    "# Step 2: Mapping Data and Connecting the Schema"
   ]
  },
  {
   "cell_type": "markdown",
   "metadata": {},
   "source": [
    "We are using SQLAlchemy, SQLAlchemy is the Python SQL toolkit and Object Relational Mapper that gives application developers the full power and flexibility of SQL.\n",
    "\n",
    "SQLAlchemy is most famous for its object-relational mapper (ORM), an optional component that provides the data mapper pattern, where classes can be mapped to the database in open ended, multiple ways - allowing the object model and database schema to develop in a cleanly decoupled way from the beginning."
   ]
  },
  {
   "cell_type": "code",
   "execution_count": 5,
   "metadata": {},
   "outputs": [],
   "source": [
    "!{sys.executable} -m pip install pip install SQLAlchemy\n",
    "\n",
    "import sqlalchemy\n",
    "from sqlalchemy import create_engine, MetaData\n",
    "from sqlalchemy.ext.declarative import declarative_base\n",
    "from sqlalchemy import Column, String, Integer, Float, Text"
   ]
  },
  {
   "cell_type": "markdown",
   "metadata": {},
   "source": [
    "Creating a relationdal datbase name enote2.sqlite. "
   ]
  },
  {
   "cell_type": "code",
   "execution_count": 6,
   "metadata": {},
   "outputs": [],
   "source": [
    "engine = create_engine('sqlite:///enote2.sqlite')"
   ]
  },
  {
   "cell_type": "markdown",
   "metadata": {},
   "source": [
    "# Construct a base class for declarative class definitions.\n",
    "\n",
    "The new base class will be given a metaclass that produces appropriate Table objects and makes the appropriate mapper() calls based on the information provided declaratively in the class and any subclasses of the class.\n",
    "\n",
    "bind – An optional Connectable, will be assigned the bind attribute on the MetaData instance."
   ]
  },
  {
   "cell_type": "code",
   "execution_count": 7,
   "metadata": {},
   "outputs": [],
   "source": [
    "Base = declarative_base(bind=engine)"
   ]
  },
  {
   "cell_type": "code",
   "execution_count": 8,
   "metadata": {},
   "outputs": [],
   "source": [
    "class enote(Base):\n",
    "    __tablename__ = 'enote_data'\n",
    "    id = Column(Integer, primary_key=True)\n",
    "    id_person = Column(Integer)\n",
    "    name = Column(String(15))\n",
    "    surname = Column(String(15))\n",
    "    zip = Column(Integer)\n",
    "    city = Column(String(15))\n",
    "    country = Column(String(15))\n",
    "    email = Column(String(15))\n",
    "    birth_date = Column(String(15))\n",
    "    id_account = Column(Integer)\n",
    "    account_type = Column(String(15))\n",
    "    id_transaction = Column(Integer)\n",
    "    transaction_type = Column(String(15))\n",
    "    transaction_date = Column(String(15))\n",
    "    transaction_amount = Column(Float(6,4))"
   ]
  },
  {
   "cell_type": "code",
   "execution_count": 9,
   "metadata": {},
   "outputs": [],
   "source": [
    "Base.metadata.create_all()"
   ]
  },
  {
   "cell_type": "markdown",
   "metadata": {},
   "source": [
    "# Step 3: Migrating Dataframe into Schema"
   ]
  },
  {
   "cell_type": "code",
   "execution_count": 10,
   "metadata": {},
   "outputs": [],
   "source": [
    "enote_measurements = df.to_dict(orient='records')"
   ]
  },
  {
   "cell_type": "code",
   "execution_count": 11,
   "metadata": {},
   "outputs": [],
   "source": [
    "metadata = MetaData(bind=engine)\n",
    "metadata.reflect()"
   ]
  },
  {
   "cell_type": "code",
   "execution_count": 12,
   "metadata": {},
   "outputs": [],
   "source": [
    "table1_measurement = sqlalchemy.Table('enote_data', metadata, autoload=True)"
   ]
  },
  {
   "cell_type": "code",
   "execution_count": 13,
   "metadata": {},
   "outputs": [
    {
     "data": {
      "text/plain": [
       "<sqlalchemy.engine.result.ResultProxy at 0x7fe694426e80>"
      ]
     },
     "execution_count": 13,
     "metadata": {},
     "output_type": "execute_result"
    }
   ],
   "source": [
    "engine.execute(table1_measurement.delete())"
   ]
  },
  {
   "cell_type": "code",
   "execution_count": 14,
   "metadata": {},
   "outputs": [
    {
     "data": {
      "text/plain": [
       "<sqlalchemy.engine.result.ResultProxy at 0x7fe6967eea90>"
      ]
     },
     "execution_count": 14,
     "metadata": {},
     "output_type": "execute_result"
    }
   ],
   "source": [
    "engine.execute(table1_measurement.insert(), enote_measurements)"
   ]
  },
  {
   "cell_type": "markdown",
   "metadata": {},
   "source": [
    "# Testing the tables that store the migrated data"
   ]
  },
  {
   "cell_type": "code",
   "execution_count": 15,
   "metadata": {},
   "outputs": [
    {
     "data": {
      "text/plain": [
       "[(0, 13, 'Aaya', 'Añon', 10013, 'Ajman', 'United Arab Emirates', 'aaya.añon@bestdomain.com', '4/14/63', 1202, 'Business', 1997, 'P1', '2020-04-07', 4.1497),\n",
       " (1, 30, 'Abdalahe', 'Aart', 10030, 'Maymana', 'Afghanistan', 'abdalahe.aart@bestdomain.com', '10.07.40', 965, 'Basic', 965, 'P3', '2020-02-21', 31.906999999999996),\n",
       " (2, 30, 'Abdalahe', 'Aart', 10030, 'Maymana', 'Afghanistan', 'abdalahe.aart@bestdomain.com', '10.07.40', 965, 'Basic', 1760, 'P4', '2020-03-09', 31.1756),\n",
       " (3, 48, 'Abdelaziz', 'Abaev', 10048, 'Gereshk', 'Afghanistan', 'abdelaziz.abaev@bestdomain.com', '8/17/85', 1189, 'Business', 1984, 'P1', '2020-02-17', 25.0801),\n",
       " (4, 55, 'Abdelfatah', 'Abaimov', 10055, 'Bāmyān', 'Afghanistan', 'abdelfatah.abaimov@bestdomain.com', '10.07.40', 946, 'Basic', 946, 'P3', '2020-03-11', 18.0259)]"
      ]
     },
     "execution_count": 15,
     "metadata": {},
     "output_type": "execute_result"
    }
   ],
   "source": [
    "engine.execute(\"SELECT * FROM enote_data LIMIT 5\").fetchall()"
   ]
  },
  {
   "cell_type": "code",
   "execution_count": 16,
   "metadata": {},
   "outputs": [
    {
     "data": {
      "text/plain": [
       "[(1234, '02.2020', 553.2275000000001),\n",
       " (1234, '03.2020', 1223.5367999999994),\n",
       " (1234, '04.2020', 802.5819),\n",
       " (1234, '05.2020', 400.3059),\n",
       " (345, '02.2020', 2644.141200000001),\n",
       " (345, '03.2020', 6663.237200000001),\n",
       " (345, '04.2020', 3242.386600000001),\n",
       " (345, '05.2020', 1712.4352000000003)]"
      ]
     },
     "execution_count": 16,
     "metadata": {},
     "output_type": "execute_result"
    }
   ],
   "source": [
    "engine.execute(\"SELECT id_person, strftime('%m.%Y', transaction_date) as month, SUM(transaction_amount) as sum_of_transactions FROM enote_data WHERE id_person IN ('1234' , '345') AND transaction_date BETWEEN '2020-02-15' and '2020-07-06' GROUP BY id_person, strftime('%m.%Y', transaction_date) ORDER BY id_person DESC\").fetchall()"
   ]
  },
  {
   "cell_type": "markdown",
   "metadata": {},
   "source": [
    "We also got the results like this but we are missing the headers. We can also use sqlite3 and pandas to do\n",
    "the queries. We will read the enote2.sqlite database and d the query."
   ]
  },
  {
   "cell_type": "code",
   "execution_count": 17,
   "metadata": {},
   "outputs": [],
   "source": [
    "import pandas as pd\n",
    "import sqlite3\n",
    "\n",
    "# Create a SQL connection to our SQLite database\n",
    "con = sqlite3.connect(\"enote2.sqlite\")\n",
    "\n",
    "cur = con.cursor()"
   ]
  },
  {
   "cell_type": "code",
   "execution_count": 18,
   "metadata": {},
   "outputs": [
    {
     "name": "stdout",
     "output_type": "stream",
     "text": [
      "   id_person    month  sum_of_transactions\n",
      "0       1234  02.2020             553.2275\n",
      "1       1234  03.2020            1223.5368\n",
      "2       1234  04.2020             802.5819\n",
      "3       1234  05.2020             400.3059\n",
      "4        345  02.2020            2644.1412\n"
     ]
    }
   ],
   "source": [
    "# Read sqlite query results into a pandas DataFrame\n",
    "con = sqlite3.connect(\"enote2.sqlite\")\n",
    "df = pd.read_sql_query(\"SELECT id_person, strftime('%m.%Y', transaction_date) as month, SUM(transaction_amount) as sum_of_transactions FROM enote_data WHERE id_person IN ('1234' , '345') AND transaction_date BETWEEN '2020-02-15' and '2020-06-06' GROUP BY id_person, strftime('%m.%Y', transaction_date) ORDER BY id_person DESC\", con)\n",
    "\n",
    "# Verify that result of SQL query is stored in the dataframe\n",
    "print(df.head())\n",
    "\n",
    "con.close()"
   ]
  },
  {
   "cell_type": "code",
   "execution_count": 19,
   "metadata": {},
   "outputs": [
    {
     "data": {
      "text/html": [
       "<div>\n",
       "<style scoped>\n",
       "    .dataframe tbody tr th:only-of-type {\n",
       "        vertical-align: middle;\n",
       "    }\n",
       "\n",
       "    .dataframe tbody tr th {\n",
       "        vertical-align: top;\n",
       "    }\n",
       "\n",
       "    .dataframe thead th {\n",
       "        text-align: right;\n",
       "    }\n",
       "</style>\n",
       "<table border=\"1\" class=\"dataframe\">\n",
       "  <thead>\n",
       "    <tr style=\"text-align: right;\">\n",
       "      <th></th>\n",
       "      <th>id_person</th>\n",
       "      <th>month</th>\n",
       "      <th>sum_of_transactions</th>\n",
       "    </tr>\n",
       "  </thead>\n",
       "  <tbody>\n",
       "    <tr>\n",
       "      <th>0</th>\n",
       "      <td>1234</td>\n",
       "      <td>02.2020</td>\n",
       "      <td>553.2275</td>\n",
       "    </tr>\n",
       "    <tr>\n",
       "      <th>1</th>\n",
       "      <td>1234</td>\n",
       "      <td>03.2020</td>\n",
       "      <td>1223.5368</td>\n",
       "    </tr>\n",
       "    <tr>\n",
       "      <th>2</th>\n",
       "      <td>1234</td>\n",
       "      <td>04.2020</td>\n",
       "      <td>802.5819</td>\n",
       "    </tr>\n",
       "    <tr>\n",
       "      <th>3</th>\n",
       "      <td>1234</td>\n",
       "      <td>05.2020</td>\n",
       "      <td>400.3059</td>\n",
       "    </tr>\n",
       "    <tr>\n",
       "      <th>4</th>\n",
       "      <td>345</td>\n",
       "      <td>02.2020</td>\n",
       "      <td>2644.1412</td>\n",
       "    </tr>\n",
       "    <tr>\n",
       "      <th>5</th>\n",
       "      <td>345</td>\n",
       "      <td>03.2020</td>\n",
       "      <td>6663.2372</td>\n",
       "    </tr>\n",
       "    <tr>\n",
       "      <th>6</th>\n",
       "      <td>345</td>\n",
       "      <td>04.2020</td>\n",
       "      <td>3242.3866</td>\n",
       "    </tr>\n",
       "    <tr>\n",
       "      <th>7</th>\n",
       "      <td>345</td>\n",
       "      <td>05.2020</td>\n",
       "      <td>1712.4352</td>\n",
       "    </tr>\n",
       "  </tbody>\n",
       "</table>\n",
       "</div>"
      ],
      "text/plain": [
       "   id_person    month  sum_of_transactions\n",
       "0       1234  02.2020             553.2275\n",
       "1       1234  03.2020            1223.5368\n",
       "2       1234  04.2020             802.5819\n",
       "3       1234  05.2020             400.3059\n",
       "4        345  02.2020            2644.1412\n",
       "5        345  03.2020            6663.2372\n",
       "6        345  04.2020            3242.3866\n",
       "7        345  05.2020            1712.4352"
      ]
     },
     "execution_count": 19,
     "metadata": {},
     "output_type": "execute_result"
    }
   ],
   "source": [
    "df"
   ]
  },
  {
   "cell_type": "markdown",
   "metadata": {},
   "source": [
    "We migrated the csv files into the relational database and did the query to get the desired results. Now we have a relational datbase in out folder. We can read the relational database from python and execute the queries. We can also modify the relational datbase we created. Let's check the tables in the relational\n",
    "database enote2.sqlite"
   ]
  },
  {
   "cell_type": "code",
   "execution_count": 20,
   "metadata": {},
   "outputs": [],
   "source": [
    "from sqlalchemy import create_engine, inspect, func"
   ]
  },
  {
   "cell_type": "code",
   "execution_count": 21,
   "metadata": {},
   "outputs": [],
   "source": [
    "engine = create_engine('sqlite:///enote2.sqlite')"
   ]
  },
  {
   "cell_type": "code",
   "execution_count": 22,
   "metadata": {},
   "outputs": [],
   "source": [
    "inspector_gadget = inspect(engine)"
   ]
  },
  {
   "cell_type": "markdown",
   "metadata": {},
   "source": [
    "Now we can check the tables in our relational datbase called enote2.sqlite"
   ]
  },
  {
   "cell_type": "code",
   "execution_count": 23,
   "metadata": {},
   "outputs": [
    {
     "data": {
      "text/plain": [
       "['enote_data']"
      ]
     },
     "execution_count": 23,
     "metadata": {},
     "output_type": "execute_result"
    }
   ],
   "source": [
    "inspector_gadget.get_table_names()"
   ]
  },
  {
   "cell_type": "markdown",
   "metadata": {},
   "source": [
    "We can see we have only one table called enote_data. "
   ]
  },
  {
   "cell_type": "code",
   "execution_count": 24,
   "metadata": {},
   "outputs": [
    {
     "name": "stdout",
     "output_type": "stream",
     "text": [
      "tablename: enote_data \n",
      "\n",
      "id INTEGER\n",
      "id_person INTEGER\n",
      "name VARCHAR(15)\n",
      "surname VARCHAR(15)\n",
      "zip INTEGER\n",
      "city VARCHAR(15)\n",
      "country VARCHAR(15)\n",
      "email VARCHAR(15)\n",
      "birth_date VARCHAR(15)\n",
      "id_account INTEGER\n",
      "account_type VARCHAR(15)\n",
      "id_transaction INTEGER\n",
      "transaction_type VARCHAR(15)\n",
      "transaction_date VARCHAR(15)\n",
      "transaction_amount FLOAT\n"
     ]
    }
   ],
   "source": [
    "print(\"tablename: enote_data \\n\")\n",
    "for piece in inspector_gadget.get_columns(table_name='enote_data'):\n",
    "    print(piece['name'], piece['type'])"
   ]
  },
  {
   "cell_type": "code",
   "execution_count": null,
   "metadata": {},
   "outputs": [],
   "source": []
  }
 ],
 "metadata": {
  "kernelspec": {
   "display_name": "Python 3",
   "language": "python",
   "name": "python3"
  },
  "language_info": {
   "codemirror_mode": {
    "name": "ipython",
    "version": 3
   },
   "file_extension": ".py",
   "mimetype": "text/x-python",
   "name": "python",
   "nbconvert_exporter": "python",
   "pygments_lexer": "ipython3",
   "version": "3.8.2"
  }
 },
 "nbformat": 4,
 "nbformat_minor": 4
}
